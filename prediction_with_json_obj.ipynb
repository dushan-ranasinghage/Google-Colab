{
  "nbformat": 4,
  "nbformat_minor": 0,
  "metadata": {
    "colab": {
      "name": "Welcome To Colaboratory",
      "provenance": [],
      "collapsed_sections": [],
      "include_colab_link": true
    },
    "kernelspec": {
      "display_name": "Python 3",
      "name": "python3"
    }
  },
  "cells": [
    {
      "cell_type": "markdown",
      "metadata": {
        "id": "view-in-github",
        "colab_type": "text"
      },
      "source": [
        "<a href=\"https://colab.research.google.com/github/dushanranasinghe/Google-Colab/blob/main/prediction_with_json_obj.ipynb\" target=\"_parent\"><img src=\"https://colab.research.google.com/assets/colab-badge.svg\" alt=\"Open In Colab\"/></a>"
      ]
    },
    {
      "cell_type": "code",
      "metadata": {
        "id": "GQ18Kd5F3uKe",
        "colab": {
          "base_uri": "https://localhost:8080/"
        },
        "outputId": "8b1bbaf0-487b-4c67-cc1e-1485eb5f1793"
      },
      "source": [
        "!pip install prophet"
      ],
      "execution_count": 7,
      "outputs": [
        {
          "output_type": "stream",
          "name": "stdout",
          "text": [
            "Collecting prophet\n",
            "  Downloading prophet-1.0.1.tar.gz (65 kB)\n",
            "\u001b[K     |████████████████████████████████| 65 kB 2.6 MB/s \n",
            "\u001b[?25hRequirement already satisfied: Cython>=0.22 in /usr/local/lib/python3.7/dist-packages (from prophet) (0.29.24)\n",
            "Collecting cmdstanpy==0.9.68\n",
            "  Downloading cmdstanpy-0.9.68-py3-none-any.whl (49 kB)\n",
            "\u001b[K     |████████████████████████████████| 49 kB 5.0 MB/s \n",
            "\u001b[?25hRequirement already satisfied: pystan~=2.19.1.1 in /usr/local/lib/python3.7/dist-packages (from prophet) (2.19.1.1)\n",
            "Requirement already satisfied: numpy>=1.15.4 in /usr/local/lib/python3.7/dist-packages (from prophet) (1.19.5)\n",
            "Requirement already satisfied: pandas>=1.0.4 in /usr/local/lib/python3.7/dist-packages (from prophet) (1.1.5)\n",
            "Requirement already satisfied: matplotlib>=2.0.0 in /usr/local/lib/python3.7/dist-packages (from prophet) (3.2.2)\n",
            "Requirement already satisfied: LunarCalendar>=0.0.9 in /usr/local/lib/python3.7/dist-packages (from prophet) (0.0.9)\n",
            "Requirement already satisfied: convertdate>=2.1.2 in /usr/local/lib/python3.7/dist-packages (from prophet) (2.3.2)\n",
            "Requirement already satisfied: holidays>=0.10.2 in /usr/local/lib/python3.7/dist-packages (from prophet) (0.10.5.2)\n",
            "Requirement already satisfied: setuptools-git>=1.2 in /usr/local/lib/python3.7/dist-packages (from prophet) (1.2)\n",
            "Requirement already satisfied: python-dateutil>=2.8.0 in /usr/local/lib/python3.7/dist-packages (from prophet) (2.8.2)\n",
            "Requirement already satisfied: tqdm>=4.36.1 in /usr/local/lib/python3.7/dist-packages (from prophet) (4.62.3)\n",
            "Collecting ujson\n",
            "  Downloading ujson-4.2.0-cp37-cp37m-manylinux_2_17_x86_64.manylinux2014_x86_64.whl (214 kB)\n",
            "\u001b[K     |████████████████████████████████| 214 kB 19.2 MB/s \n",
            "\u001b[?25hRequirement already satisfied: pytz>=2014.10 in /usr/local/lib/python3.7/dist-packages (from convertdate>=2.1.2->prophet) (2018.9)\n",
            "Requirement already satisfied: pymeeus<=1,>=0.3.13 in /usr/local/lib/python3.7/dist-packages (from convertdate>=2.1.2->prophet) (0.5.11)\n",
            "Requirement already satisfied: hijri-converter in /usr/local/lib/python3.7/dist-packages (from holidays>=0.10.2->prophet) (2.2.2)\n",
            "Requirement already satisfied: korean-lunar-calendar in /usr/local/lib/python3.7/dist-packages (from holidays>=0.10.2->prophet) (0.2.1)\n",
            "Requirement already satisfied: six in /usr/local/lib/python3.7/dist-packages (from holidays>=0.10.2->prophet) (1.15.0)\n",
            "Requirement already satisfied: ephem>=3.7.5.3 in /usr/local/lib/python3.7/dist-packages (from LunarCalendar>=0.0.9->prophet) (4.1)\n",
            "Requirement already satisfied: kiwisolver>=1.0.1 in /usr/local/lib/python3.7/dist-packages (from matplotlib>=2.0.0->prophet) (1.3.2)\n",
            "Requirement already satisfied: cycler>=0.10 in /usr/local/lib/python3.7/dist-packages (from matplotlib>=2.0.0->prophet) (0.10.0)\n",
            "Requirement already satisfied: pyparsing!=2.0.4,!=2.1.2,!=2.1.6,>=2.0.1 in /usr/local/lib/python3.7/dist-packages (from matplotlib>=2.0.0->prophet) (2.4.7)\n",
            "Building wheels for collected packages: prophet\n",
            "  Building wheel for prophet (setup.py) ... \u001b[?25l\u001b[?25hdone\n",
            "  Created wheel for prophet: filename=prophet-1.0.1-py3-none-any.whl size=6639922 sha256=1bef690262e2ab916ec40bc1d4d1a7b4919b656cde7c12e6cacbda8ae5eb532e\n",
            "  Stored in directory: /root/.cache/pip/wheels/4e/a0/1a/02c9ec9e3e9de6bdbb3d769d11992a6926889d71567d6b9b67\n",
            "Successfully built prophet\n",
            "Installing collected packages: ujson, cmdstanpy, prophet\n",
            "  Attempting uninstall: cmdstanpy\n",
            "    Found existing installation: cmdstanpy 0.9.5\n",
            "    Uninstalling cmdstanpy-0.9.5:\n",
            "      Successfully uninstalled cmdstanpy-0.9.5\n",
            "\u001b[31mERROR: pip's dependency resolver does not currently take into account all the packages that are installed. This behaviour is the source of the following dependency conflicts.\n",
            "fbprophet 0.7.1 requires cmdstanpy==0.9.5, but you have cmdstanpy 0.9.68 which is incompatible.\u001b[0m\n",
            "Successfully installed cmdstanpy-0.9.68 prophet-1.0.1 ujson-4.2.0\n"
          ]
        }
      ]
    },
    {
      "cell_type": "code",
      "metadata": {
        "id": "Yb6MEo9PSB-4"
      },
      "source": [
        "def get_past_market_data(digital_currency, symbol, market, api_key):\n",
        "  json_get = requests.get('https://www.alphavantage.co/query?function='+digital_currency+'&symbol='+symbol+'&market='+market+'&apikey='+api_key+'')\n",
        "\n",
        "  frequency_type = get_data_frequency_type(digital_currency)\n",
        "\n",
        "  data_attribute_name = 'Time Series (Digital Currency '+frequency_type+')'\n",
        "\n",
        "  data_arr = json_get.json()[data_attribute_name]\n",
        "\n",
        "  return data_arr"
      ],
      "execution_count": 1,
      "outputs": []
    },
    {
      "cell_type": "code",
      "metadata": {
        "id": "pzFV2wLVSMdY"
      },
      "source": [
        "def get_data_frequency_type(digital_currency):\n",
        "  return digital_currency.split(\"_\")[2].capitalize() "
      ],
      "execution_count": 11,
      "outputs": []
    },
    {
      "cell_type": "code",
      "metadata": {
        "id": "0HNavyllTqlS"
      },
      "source": [
        "def organize_data_for_pandas(data_arr, market):\n",
        "  new_data_arr = []\n",
        "  DAY_HIGH = '2a. high ('+market+')'\n",
        "  DAY_LOW = '3a. low ('+market+')'\n",
        "\n",
        "  for obj in data_arr:\n",
        "      json_obj = {}\n",
        "      json_obj[\"ds\"] = obj\n",
        "      json_obj[\"y\"] = (float(data_arr[obj][DAY_HIGH]) + float(data_arr[obj][DAY_LOW])) / 2\n",
        "      new_data_arr.append(json_obj)\n",
        "\n",
        "  strigify_arr = json.dumps(new_data_arr)\n",
        "\n",
        "  return strigify_arr"
      ],
      "execution_count": 4,
      "outputs": []
    },
    {
      "cell_type": "code",
      "metadata": {
        "id": "QPXlelfvUQjR"
      },
      "source": [
        "def run_prophet(strigify_arr):\n",
        "  df = pd.read_json(strigify_arr)\n",
        "  df.head()\n",
        "\n",
        "  m = Prophet()\n",
        "  m.fit(df)\n",
        "  future = m.make_future_dataframe(periods=365)\n",
        "  future.tail()\n",
        "\n",
        "  forecast = m.predict(future)\n",
        "  forecast[['ds', 'yhat', 'yhat_lower', 'yhat_upper']].tail()\n",
        "\n",
        "  fig1 = m.plot(forecast)"
      ],
      "execution_count": 5,
      "outputs": []
    },
    {
      "cell_type": "code",
      "metadata": {
        "colab": {
          "base_uri": "https://localhost:8080/",
          "height": 391
        },
        "id": "dIzDUBlxR2Kn",
        "outputId": "6a088d40-b8ed-4a79-e885-bd946ead672c"
      },
      "source": [
        "import pandas as pd\n",
        "import json\n",
        "import requests\n",
        "from prophet import Prophet\n",
        "\n",
        "\n",
        "\n",
        "def main():\n",
        "    freq = input(\"Enter Currency Rate Frequency (DAILY, MONTHLY, YEARLY):\")\n",
        "    sym = input(\"Enter Currency SYMBOL (Ex: BTC):\")\n",
        "    mark = input(\"Enter Currency Market (USD):\")\n",
        "\n",
        "    DIGITAL_CURRENCY = \"DIGITAL_CURRENCY_\"+freq+\"\"\n",
        "    SYMBOL = sym\n",
        "    MARKET = mark\n",
        "    API_KEY = \"demo\"\n",
        "\n",
        "    market_data = get_past_market_data(DIGITAL_CURRENCY, SYMBOL, MARKET, API_KEY)\n",
        "\n",
        "    organized_arr = organize_data_for_pandas(market_data, MARKET)\n",
        "\n",
        "    run_prophet(organized_arr)\n",
        "\n",
        "if __name__ == \"__main__\":\n",
        "    main()"
      ],
      "execution_count": 13,
      "outputs": [
        {
          "name": "stdout",
          "output_type": "stream",
          "text": [
            "Enter Currency Rate Frequency (DAILY, MONTHLY, YEARLY):DAILY\n",
            "Enter Currency SYMBOL (Ex: BTC):ETH\n",
            "Enter Currency Market (USD):USD\n"
          ]
        },
        {
          "output_type": "error",
          "ename": "KeyError",
          "evalue": "ignored",
          "traceback": [
            "\u001b[0;31m---------------------------------------------------------------------------\u001b[0m",
            "\u001b[0;31mKeyError\u001b[0m                                  Traceback (most recent call last)",
            "\u001b[0;32m<ipython-input-13-ed19cd39db47>\u001b[0m in \u001b[0;36m<module>\u001b[0;34m()\u001b[0m\n\u001b[1;32m     23\u001b[0m \u001b[0;34m\u001b[0m\u001b[0m\n\u001b[1;32m     24\u001b[0m \u001b[0;32mif\u001b[0m \u001b[0m__name__\u001b[0m \u001b[0;34m==\u001b[0m \u001b[0;34m\"__main__\"\u001b[0m\u001b[0;34m:\u001b[0m\u001b[0;34m\u001b[0m\u001b[0;34m\u001b[0m\u001b[0m\n\u001b[0;32m---> 25\u001b[0;31m     \u001b[0mmain\u001b[0m\u001b[0;34m(\u001b[0m\u001b[0;34m)\u001b[0m\u001b[0;34m\u001b[0m\u001b[0;34m\u001b[0m\u001b[0m\n\u001b[0m",
            "\u001b[0;32m<ipython-input-13-ed19cd39db47>\u001b[0m in \u001b[0;36mmain\u001b[0;34m()\u001b[0m\n\u001b[1;32m     16\u001b[0m     \u001b[0mAPI_KEY\u001b[0m \u001b[0;34m=\u001b[0m \u001b[0;34m\"demo\"\u001b[0m\u001b[0;34m\u001b[0m\u001b[0;34m\u001b[0m\u001b[0m\n\u001b[1;32m     17\u001b[0m \u001b[0;34m\u001b[0m\u001b[0m\n\u001b[0;32m---> 18\u001b[0;31m     \u001b[0mmarket_data\u001b[0m \u001b[0;34m=\u001b[0m \u001b[0mget_past_market_data\u001b[0m\u001b[0;34m(\u001b[0m\u001b[0mDIGITAL_CURRENCY\u001b[0m\u001b[0;34m,\u001b[0m \u001b[0mSYMBOL\u001b[0m\u001b[0;34m,\u001b[0m \u001b[0mMARKET\u001b[0m\u001b[0;34m,\u001b[0m \u001b[0mAPI_KEY\u001b[0m\u001b[0;34m)\u001b[0m\u001b[0;34m\u001b[0m\u001b[0;34m\u001b[0m\u001b[0m\n\u001b[0m\u001b[1;32m     19\u001b[0m \u001b[0;34m\u001b[0m\u001b[0m\n\u001b[1;32m     20\u001b[0m     \u001b[0morganized_arr\u001b[0m \u001b[0;34m=\u001b[0m \u001b[0morganize_data_for_pandas\u001b[0m\u001b[0;34m(\u001b[0m\u001b[0mmarket_data\u001b[0m\u001b[0;34m,\u001b[0m \u001b[0mMARKET\u001b[0m\u001b[0;34m)\u001b[0m\u001b[0;34m\u001b[0m\u001b[0;34m\u001b[0m\u001b[0m\n",
            "\u001b[0;32m<ipython-input-1-a05e2e2d2a91>\u001b[0m in \u001b[0;36mget_past_market_data\u001b[0;34m(digital_currency, symbol, market, api_key)\u001b[0m\n\u001b[1;32m      6\u001b[0m   \u001b[0mdata_attribute_name\u001b[0m \u001b[0;34m=\u001b[0m \u001b[0;34m'Time Series (Digital Currency '\u001b[0m\u001b[0;34m+\u001b[0m\u001b[0mfrequency_type\u001b[0m\u001b[0;34m+\u001b[0m\u001b[0;34m')'\u001b[0m\u001b[0;34m\u001b[0m\u001b[0;34m\u001b[0m\u001b[0m\n\u001b[1;32m      7\u001b[0m \u001b[0;34m\u001b[0m\u001b[0m\n\u001b[0;32m----> 8\u001b[0;31m   \u001b[0mdata_arr\u001b[0m \u001b[0;34m=\u001b[0m \u001b[0mjson_get\u001b[0m\u001b[0;34m.\u001b[0m\u001b[0mjson\u001b[0m\u001b[0;34m(\u001b[0m\u001b[0;34m)\u001b[0m\u001b[0;34m[\u001b[0m\u001b[0mdata_attribute_name\u001b[0m\u001b[0;34m]\u001b[0m\u001b[0;34m\u001b[0m\u001b[0;34m\u001b[0m\u001b[0m\n\u001b[0m\u001b[1;32m      9\u001b[0m \u001b[0;34m\u001b[0m\u001b[0m\n\u001b[1;32m     10\u001b[0m   \u001b[0;32mreturn\u001b[0m \u001b[0mdata_arr\u001b[0m\u001b[0;34m\u001b[0m\u001b[0;34m\u001b[0m\u001b[0m\n",
            "\u001b[0;31mKeyError\u001b[0m: 'Time Series (Digital Currency Daily)'"
          ]
        }
      ]
    }
  ]
}