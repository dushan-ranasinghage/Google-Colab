{
  "nbformat": 4,
  "nbformat_minor": 0,
  "metadata": {
    "colab": {
      "name": "Welcome To Colaboratory",
      "provenance": [],
      "collapsed_sections": [],
      "include_colab_link": true
    },
    "kernelspec": {
      "display_name": "Python 3",
      "name": "python3"
    }
  },
  "cells": [
    {
      "cell_type": "markdown",
      "metadata": {
        "id": "view-in-github",
        "colab_type": "text"
      },
      "source": [
        "<a href=\"https://colab.research.google.com/github/dushanranasinghe/Google-Colab/blob/main/prediction_with_json_obj.ipynb\" target=\"_parent\"><img src=\"https://colab.research.google.com/assets/colab-badge.svg\" alt=\"Open In Colab\"/></a>"
      ]
    },
    {
      "cell_type": "code",
      "metadata": {
        "id": "GQ18Kd5F3uKe",
        "colab": {
          "base_uri": "https://localhost:8080/"
        },
        "outputId": "02a10c50-4343-49b6-d5d3-b1d4070c7589"
      },
      "source": [
        "!pip install prophet"
      ],
      "execution_count": 1,
      "outputs": [
        {
          "output_type": "stream",
          "name": "stdout",
          "text": [
            "Collecting prophet\n",
            "  Downloading prophet-1.0.1.tar.gz (65 kB)\n",
            "\u001b[K     |████████████████████████████████| 65 kB 2.4 MB/s \n",
            "\u001b[?25hRequirement already satisfied: Cython>=0.22 in /usr/local/lib/python3.7/dist-packages (from prophet) (0.29.24)\n",
            "Collecting cmdstanpy==0.9.68\n",
            "  Downloading cmdstanpy-0.9.68-py3-none-any.whl (49 kB)\n",
            "\u001b[K     |████████████████████████████████| 49 kB 5.0 MB/s \n",
            "\u001b[?25hRequirement already satisfied: pystan~=2.19.1.1 in /usr/local/lib/python3.7/dist-packages (from prophet) (2.19.1.1)\n",
            "Requirement already satisfied: numpy>=1.15.4 in /usr/local/lib/python3.7/dist-packages (from prophet) (1.19.5)\n",
            "Requirement already satisfied: pandas>=1.0.4 in /usr/local/lib/python3.7/dist-packages (from prophet) (1.1.5)\n",
            "Requirement already satisfied: matplotlib>=2.0.0 in /usr/local/lib/python3.7/dist-packages (from prophet) (3.2.2)\n",
            "Requirement already satisfied: LunarCalendar>=0.0.9 in /usr/local/lib/python3.7/dist-packages (from prophet) (0.0.9)\n",
            "Requirement already satisfied: convertdate>=2.1.2 in /usr/local/lib/python3.7/dist-packages (from prophet) (2.3.2)\n",
            "Requirement already satisfied: holidays>=0.10.2 in /usr/local/lib/python3.7/dist-packages (from prophet) (0.10.5.2)\n",
            "Requirement already satisfied: setuptools-git>=1.2 in /usr/local/lib/python3.7/dist-packages (from prophet) (1.2)\n",
            "Requirement already satisfied: python-dateutil>=2.8.0 in /usr/local/lib/python3.7/dist-packages (from prophet) (2.8.2)\n",
            "Requirement already satisfied: tqdm>=4.36.1 in /usr/local/lib/python3.7/dist-packages (from prophet) (4.62.3)\n",
            "Collecting ujson\n",
            "  Downloading ujson-4.2.0-cp37-cp37m-manylinux_2_17_x86_64.manylinux2014_x86_64.whl (214 kB)\n",
            "\u001b[K     |████████████████████████████████| 214 kB 11.8 MB/s \n",
            "\u001b[?25hRequirement already satisfied: pytz>=2014.10 in /usr/local/lib/python3.7/dist-packages (from convertdate>=2.1.2->prophet) (2018.9)\n",
            "Requirement already satisfied: pymeeus<=1,>=0.3.13 in /usr/local/lib/python3.7/dist-packages (from convertdate>=2.1.2->prophet) (0.5.11)\n",
            "Requirement already satisfied: six in /usr/local/lib/python3.7/dist-packages (from holidays>=0.10.2->prophet) (1.15.0)\n",
            "Requirement already satisfied: korean-lunar-calendar in /usr/local/lib/python3.7/dist-packages (from holidays>=0.10.2->prophet) (0.2.1)\n",
            "Requirement already satisfied: hijri-converter in /usr/local/lib/python3.7/dist-packages (from holidays>=0.10.2->prophet) (2.2.2)\n",
            "Requirement already satisfied: ephem>=3.7.5.3 in /usr/local/lib/python3.7/dist-packages (from LunarCalendar>=0.0.9->prophet) (4.1)\n",
            "Requirement already satisfied: cycler>=0.10 in /usr/local/lib/python3.7/dist-packages (from matplotlib>=2.0.0->prophet) (0.10.0)\n",
            "Requirement already satisfied: kiwisolver>=1.0.1 in /usr/local/lib/python3.7/dist-packages (from matplotlib>=2.0.0->prophet) (1.3.2)\n",
            "Requirement already satisfied: pyparsing!=2.0.4,!=2.1.2,!=2.1.6,>=2.0.1 in /usr/local/lib/python3.7/dist-packages (from matplotlib>=2.0.0->prophet) (2.4.7)\n",
            "Building wheels for collected packages: prophet\n",
            "  Building wheel for prophet (setup.py) ... \u001b[?25l\u001b[?25hdone\n",
            "  Created wheel for prophet: filename=prophet-1.0.1-py3-none-any.whl size=6640318 sha256=35bbeedf10d23d898ead0a36b877f0b90066cf42951e0a943d0ca7d1f4e5adbd\n",
            "  Stored in directory: /root/.cache/pip/wheels/4e/a0/1a/02c9ec9e3e9de6bdbb3d769d11992a6926889d71567d6b9b67\n",
            "Successfully built prophet\n",
            "Installing collected packages: ujson, cmdstanpy, prophet\n",
            "  Attempting uninstall: cmdstanpy\n",
            "    Found existing installation: cmdstanpy 0.9.5\n",
            "    Uninstalling cmdstanpy-0.9.5:\n",
            "      Successfully uninstalled cmdstanpy-0.9.5\n",
            "\u001b[31mERROR: pip's dependency resolver does not currently take into account all the packages that are installed. This behaviour is the source of the following dependency conflicts.\n",
            "fbprophet 0.7.1 requires cmdstanpy==0.9.5, but you have cmdstanpy 0.9.68 which is incompatible.\u001b[0m\n",
            "Successfully installed cmdstanpy-0.9.68 prophet-1.0.1 ujson-4.2.0\n"
          ]
        }
      ]
    },
    {
      "cell_type": "code",
      "metadata": {
        "colab": {
          "base_uri": "https://localhost:8080/",
          "height": 204
        },
        "id": "_4FDoYa2xMsy",
        "outputId": "59ef6f2c-f234-4bfb-aade-46e6eb9cfaf4"
      },
      "source": [
        "import pandas as pd\n",
        "import json\n",
        "from prophet import Prophet\n",
        "\n",
        "json_obj = json.dumps([\n",
        "  {\n",
        "    \"ds\": \"10/13/2021\",\n",
        "    \"Close/Last\": 58168.4,\n",
        "    \"Volume\": \"N/A\",\n",
        "    \"Open\": 56279.9,\n",
        "    \"High\": 58506.5,\n",
        "    \"Low\": 57149.8,\n",
        "    \"y\": 57828.15\n",
        "  },\n",
        "  {\n",
        "    \"ds\": \"10/12/2021\",\n",
        "    \"Close/Last\": 56297.4,\n",
        "    \"Volume\": \"N/A\",\n",
        "    \"Open\": 56673.3,\n",
        "    \"High\": 56537.3,\n",
        "    \"Low\": 55845.3,\n",
        "    \"y\": 56191.3\n",
        "  },\n",
        "  {\n",
        "    \"ds\": \"10/11/2021\",\n",
        "    \"Close/Last\": 56704.4,\n",
        "    \"Volume\": \"N/A\",\n",
        "    \"Open\": 56505.4,\n",
        "    \"High\": 57480.6,\n",
        "    \"Low\": 56438.3,\n",
        "    \"y\": 56959.45\n",
        "  },\n",
        "  {\n",
        "    \"ds\": \"10/10/2021\",\n",
        "    \"Close/Last\": 56534.9,\n",
        "    \"Volume\": \"N/A\",\n",
        "    \"Open\": 55076.9,\n",
        "    \"High\": 56681.6,\n",
        "    \"Low\": 54457.8,\n",
        "    \"y\": 55569.7\n",
        "  },\n",
        "  {\n",
        "    \"ds\": \"10/9/2021\",\n",
        "    \"Close/Last\": 54868.6,\n",
        "    \"Volume\": \"N/A\",\n",
        "    \"Open\": 54583.6,\n",
        "    \"High\": 55169.9,\n",
        "    \"Low\": 54100.8,\n",
        "    \"y\": 54635.35\n",
        "  },\n",
        "  {\n",
        "    \"ds\": \"10/8/2021\",\n",
        "    \"Close/Last\": 54637.5,\n",
        "    \"Volume\": \"N/A\",\n",
        "    \"Open\": 53802.5,\n",
        "    \"High\": 54681.9,\n",
        "    \"Low\": 53711.7,\n",
        "    \"y\": 54196.8\n",
        "  }\n",
        "])\n",
        "\n",
        "# Python\n",
        "df = pd.read_json(json_obj)\n",
        "df.head()"
      ],
      "execution_count": 6,
      "outputs": [
        {
          "output_type": "execute_result",
          "data": {
            "text/html": [
              "<div>\n",
              "<style scoped>\n",
              "    .dataframe tbody tr th:only-of-type {\n",
              "        vertical-align: middle;\n",
              "    }\n",
              "\n",
              "    .dataframe tbody tr th {\n",
              "        vertical-align: top;\n",
              "    }\n",
              "\n",
              "    .dataframe thead th {\n",
              "        text-align: right;\n",
              "    }\n",
              "</style>\n",
              "<table border=\"1\" class=\"dataframe\">\n",
              "  <thead>\n",
              "    <tr style=\"text-align: right;\">\n",
              "      <th></th>\n",
              "      <th>ds</th>\n",
              "      <th>Close/Last</th>\n",
              "      <th>Volume</th>\n",
              "      <th>Open</th>\n",
              "      <th>High</th>\n",
              "      <th>Low</th>\n",
              "      <th>y</th>\n",
              "    </tr>\n",
              "  </thead>\n",
              "  <tbody>\n",
              "    <tr>\n",
              "      <th>0</th>\n",
              "      <td>10/13/2021</td>\n",
              "      <td>58168.4</td>\n",
              "      <td>N/A</td>\n",
              "      <td>56279.9</td>\n",
              "      <td>58506.5</td>\n",
              "      <td>57149.8</td>\n",
              "      <td>57828.15</td>\n",
              "    </tr>\n",
              "    <tr>\n",
              "      <th>1</th>\n",
              "      <td>10/12/2021</td>\n",
              "      <td>56297.4</td>\n",
              "      <td>N/A</td>\n",
              "      <td>56673.3</td>\n",
              "      <td>56537.3</td>\n",
              "      <td>55845.3</td>\n",
              "      <td>56191.30</td>\n",
              "    </tr>\n",
              "    <tr>\n",
              "      <th>2</th>\n",
              "      <td>10/11/2021</td>\n",
              "      <td>56704.4</td>\n",
              "      <td>N/A</td>\n",
              "      <td>56505.4</td>\n",
              "      <td>57480.6</td>\n",
              "      <td>56438.3</td>\n",
              "      <td>56959.45</td>\n",
              "    </tr>\n",
              "    <tr>\n",
              "      <th>3</th>\n",
              "      <td>10/10/2021</td>\n",
              "      <td>56534.9</td>\n",
              "      <td>N/A</td>\n",
              "      <td>55076.9</td>\n",
              "      <td>56681.6</td>\n",
              "      <td>54457.8</td>\n",
              "      <td>55569.70</td>\n",
              "    </tr>\n",
              "    <tr>\n",
              "      <th>4</th>\n",
              "      <td>10/9/2021</td>\n",
              "      <td>54868.6</td>\n",
              "      <td>N/A</td>\n",
              "      <td>54583.6</td>\n",
              "      <td>55169.9</td>\n",
              "      <td>54100.8</td>\n",
              "      <td>54635.35</td>\n",
              "    </tr>\n",
              "  </tbody>\n",
              "</table>\n",
              "</div>"
            ],
            "text/plain": [
              "           ds  Close/Last Volume     Open     High      Low         y\n",
              "0  10/13/2021     58168.4    N/A  56279.9  58506.5  57149.8  57828.15\n",
              "1  10/12/2021     56297.4    N/A  56673.3  56537.3  55845.3  56191.30\n",
              "2  10/11/2021     56704.4    N/A  56505.4  57480.6  56438.3  56959.45\n",
              "3  10/10/2021     56534.9    N/A  55076.9  56681.6  54457.8  55569.70\n",
              "4   10/9/2021     54868.6    N/A  54583.6  55169.9  54100.8  54635.35"
            ]
          },
          "metadata": {},
          "execution_count": 6
        }
      ]
    },
    {
      "cell_type": "code",
      "metadata": {
        "colab": {
          "base_uri": "https://localhost:8080/",
          "height": 272
        },
        "id": "hWOSNVJGy-T6",
        "outputId": "a017e065-253c-4c3c-e727-2edb06e005a1"
      },
      "source": [
        "m = Prophet()\n",
        "m.fit(df)\n",
        "future = m.make_future_dataframe(periods=10)\n",
        "future.tail()"
      ],
      "execution_count": 10,
      "outputs": [
        {
          "output_type": "stream",
          "name": "stderr",
          "text": [
            "INFO:prophet:Disabling yearly seasonality. Run prophet with yearly_seasonality=True to override this.\n",
            "INFO:prophet:Disabling weekly seasonality. Run prophet with weekly_seasonality=True to override this.\n",
            "INFO:prophet:Disabling daily seasonality. Run prophet with daily_seasonality=True to override this.\n",
            "INFO:prophet:n_changepoints greater than number of observations. Using 3.\n"
          ]
        },
        {
          "output_type": "execute_result",
          "data": {
            "text/html": [
              "<div>\n",
              "<style scoped>\n",
              "    .dataframe tbody tr th:only-of-type {\n",
              "        vertical-align: middle;\n",
              "    }\n",
              "\n",
              "    .dataframe tbody tr th {\n",
              "        vertical-align: top;\n",
              "    }\n",
              "\n",
              "    .dataframe thead th {\n",
              "        text-align: right;\n",
              "    }\n",
              "</style>\n",
              "<table border=\"1\" class=\"dataframe\">\n",
              "  <thead>\n",
              "    <tr style=\"text-align: right;\">\n",
              "      <th></th>\n",
              "      <th>ds</th>\n",
              "    </tr>\n",
              "  </thead>\n",
              "  <tbody>\n",
              "    <tr>\n",
              "      <th>11</th>\n",
              "      <td>2021-10-19</td>\n",
              "    </tr>\n",
              "    <tr>\n",
              "      <th>12</th>\n",
              "      <td>2021-10-20</td>\n",
              "    </tr>\n",
              "    <tr>\n",
              "      <th>13</th>\n",
              "      <td>2021-10-21</td>\n",
              "    </tr>\n",
              "    <tr>\n",
              "      <th>14</th>\n",
              "      <td>2021-10-22</td>\n",
              "    </tr>\n",
              "    <tr>\n",
              "      <th>15</th>\n",
              "      <td>2021-10-23</td>\n",
              "    </tr>\n",
              "  </tbody>\n",
              "</table>\n",
              "</div>"
            ],
            "text/plain": [
              "           ds\n",
              "11 2021-10-19\n",
              "12 2021-10-20\n",
              "13 2021-10-21\n",
              "14 2021-10-22\n",
              "15 2021-10-23"
            ]
          },
          "metadata": {},
          "execution_count": 10
        }
      ]
    },
    {
      "cell_type": "code",
      "metadata": {
        "colab": {
          "base_uri": "https://localhost:8080/",
          "height": 204
        },
        "id": "L9IqaJhE4DkQ",
        "outputId": "237b4644-1780-410e-b02d-b157837b07ad"
      },
      "source": [
        "forecast = m.predict(future)\n",
        "forecast[['ds', 'yhat', 'yhat_lower', 'yhat_upper']].tail()\n"
      ],
      "execution_count": 11,
      "outputs": [
        {
          "output_type": "execute_result",
          "data": {
            "text/html": [
              "<div>\n",
              "<style scoped>\n",
              "    .dataframe tbody tr th:only-of-type {\n",
              "        vertical-align: middle;\n",
              "    }\n",
              "\n",
              "    .dataframe tbody tr th {\n",
              "        vertical-align: top;\n",
              "    }\n",
              "\n",
              "    .dataframe thead th {\n",
              "        text-align: right;\n",
              "    }\n",
              "</style>\n",
              "<table border=\"1\" class=\"dataframe\">\n",
              "  <thead>\n",
              "    <tr style=\"text-align: right;\">\n",
              "      <th></th>\n",
              "      <th>ds</th>\n",
              "      <th>yhat</th>\n",
              "      <th>yhat_lower</th>\n",
              "      <th>yhat_upper</th>\n",
              "    </tr>\n",
              "  </thead>\n",
              "  <tbody>\n",
              "    <tr>\n",
              "      <th>11</th>\n",
              "      <td>2021-10-19</td>\n",
              "      <td>61756.814546</td>\n",
              "      <td>61202.957342</td>\n",
              "      <td>62307.011511</td>\n",
              "    </tr>\n",
              "    <tr>\n",
              "      <th>12</th>\n",
              "      <td>2021-10-20</td>\n",
              "      <td>62445.670386</td>\n",
              "      <td>61868.830889</td>\n",
              "      <td>63009.812020</td>\n",
              "    </tr>\n",
              "    <tr>\n",
              "      <th>13</th>\n",
              "      <td>2021-10-21</td>\n",
              "      <td>63134.526225</td>\n",
              "      <td>62537.931887</td>\n",
              "      <td>63738.231517</td>\n",
              "    </tr>\n",
              "    <tr>\n",
              "      <th>14</th>\n",
              "      <td>2021-10-22</td>\n",
              "      <td>63823.382064</td>\n",
              "      <td>63313.483954</td>\n",
              "      <td>64409.773755</td>\n",
              "    </tr>\n",
              "    <tr>\n",
              "      <th>15</th>\n",
              "      <td>2021-10-23</td>\n",
              "      <td>64512.237904</td>\n",
              "      <td>63965.312735</td>\n",
              "      <td>65091.925447</td>\n",
              "    </tr>\n",
              "  </tbody>\n",
              "</table>\n",
              "</div>"
            ],
            "text/plain": [
              "           ds          yhat    yhat_lower    yhat_upper\n",
              "11 2021-10-19  61756.814546  61202.957342  62307.011511\n",
              "12 2021-10-20  62445.670386  61868.830889  63009.812020\n",
              "13 2021-10-21  63134.526225  62537.931887  63738.231517\n",
              "14 2021-10-22  63823.382064  63313.483954  64409.773755\n",
              "15 2021-10-23  64512.237904  63965.312735  65091.925447"
            ]
          },
          "metadata": {},
          "execution_count": 11
        }
      ]
    },
    {
      "cell_type": "code",
      "metadata": {
        "colab": {
          "base_uri": "https://localhost:8080/",
          "height": 441
        },
        "id": "n-En3qV65ItL",
        "outputId": "d6b56b2a-3743-4c46-d3fe-97e939c93aed"
      },
      "source": [
        "fig1 = m.plot(forecast)\n"
      ],
      "execution_count": 12,
      "outputs": [
        {
          "output_type": "display_data",
          "data": {
            "image/png": "[encoded data removed]",
            "text/plain": [
              "<Figure size 720x432 with 1 Axes>"
            ]
          },
          "metadata": {}
        }
      ]
    }
  ]
}